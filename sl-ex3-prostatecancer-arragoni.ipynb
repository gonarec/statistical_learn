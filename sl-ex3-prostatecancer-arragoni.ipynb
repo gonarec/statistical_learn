{
 "cells": [
  {
   "cell_type": "code",
   "execution_count": 29,
   "metadata": {},
   "outputs": [],
   "source": [
    "import numpy as np\n",
    "import pandas as pd\n",
    "import seaborn as sns\n",
    "import matplotlib.pyplot as plt\n",
    "from sklearn.linear_model import LinearRegression\n",
    "from sklearn.preprocessing import StandardScaler\n",
    "import statsmodels.api as sm \n",
    "import scipy.special as sp"
   ]
  },
  {
   "cell_type": "code",
   "execution_count": 27,
   "metadata": {},
   "outputs": [],
   "source": [
    "data=pd.read_csv('prostate.data', sep='\\t')\n",
    "data.drop(columns=data.columns[0], inplace=True)\n",
    "\n",
    "train=pd.Series(data.loc[:,'train'])\n",
    "data.drop(columns='train', inplace=True)\n",
    "\n",
    "lpsa=pd.Series(data.loc[:,'lpsa'])\n",
    "predictors=pd.DataFrame(data.drop(columns='lpsa'))\n",
    "\n",
    "dataTrain = data.loc[train == 'T']\n",
    "dataTest = data.loc[train == 'F']\n",
    "lpsaTrain = pd.Series(dataTrain.loc[:,'lpsa'])\n",
    "lpsaTest = pd.Series(dataTest.loc[:,'lpsa'])\n",
    "\n",
    "predictorsTrain=pd.DataFrame(dataTrain.drop(columns='lpsa'))\n",
    "predictorsTest=pd.DataFrame(dataTest.drop(columns='lpsa'))\n",
    "\n",
    "scaler = StandardScaler()\n",
    "# Adatta lo scaler ai dati di addestramento e trasforma i dati\n",
    "predictorsTrain_std = pd.DataFrame(scaler.fit_transform(predictorsTrain), columns=predictorsTrain.columns)\n",
    "N=len(predictorsTrain_std)\n",
    "p=len(predictorsTrain_std.columns)+1\n",
    "train_intercept = np.empty(shape=(N, p), dtype=float)\n",
    "train_intercept[:, 0] = 1\n",
    "train_intercept[:, 1:p] = predictorsTrain_std.values\n",
    "\n",
    "#ols = sm.OLS(lpsaTrain, train_intercept) #ols come variabili indipendenti accetta solo arraya numpy\n",
    "#ols_result = ols.fit()\n",
    "#ols_result.summary2()"
   ]
  },
  {
   "cell_type": "code",
   "execution_count": 30,
   "metadata": {},
   "outputs": [],
   "source": [
    "# Preparazione\n",
    "varIndices = range(8)  # Assumendo 8 variabili\n",
    "nTotVars = len(varIndices)\n",
    "nTotModels = sum(sp.binom(nTotVars, k) for k in range(nTotVars + 1))\n",
    "nTotModels = int(nTotModels)\n",
    "\n",
    "# Array per memorizzare i risultati\n",
    "models_NVars = np.zeros(nTotModels)\n",
    "models_AICs = np.zeros(nTotModels)\n",
    "models_BICs = np.zeros(nTotModels)\n",
    "models_R2s = np.zeros(nTotModels)\n",
    "models_SSR_train = np.zeros(nTotModels)\n",
    "models_RMSE_test = np.zeros(nTotModels)\n",
    "models_parIs = [None] * nTotModels"
   ]
  }
 ],
 "metadata": {
  "kernelspec": {
   "display_name": "Python 3",
   "language": "python",
   "name": "python3"
  },
  "language_info": {
   "codemirror_mode": {
    "name": "ipython",
    "version": 3
   },
   "file_extension": ".py",
   "mimetype": "text/x-python",
   "name": "python",
   "nbconvert_exporter": "python",
   "pygments_lexer": "ipython3",
   "version": "3.11.9"
  }
 },
 "nbformat": 4,
 "nbformat_minor": 2
}
